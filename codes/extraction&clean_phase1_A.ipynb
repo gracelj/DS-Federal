{
 "cells": [
  {
   "cell_type": "code",
   "execution_count": 16,
   "metadata": {},
   "outputs": [],
   "source": [
    "# pip install pycountry\n",
    "import pycountry\n",
    "# pycountry.countries\n",
    "# pycountry.languages\n",
    "import re\n",
    "from pathlib import Path\n",
    "import pandas as pd\n",
    "\n",
    "data_folder = Path(\"C:/Users/Jing Li/Desktop/cv2db/project/Inputs/intermediate\")\n",
    "file_name = data_folder / \"A_Phase1.pkl\"\n",
    "df = pd.read_pickle(file_name)"
   ]
  },
  {
   "cell_type": "code",
   "execution_count": 17,
   "metadata": {},
   "outputs": [],
   "source": [
    "#ETC\n",
    "\n",
    "# further seperate\n",
    "list_edu = list(range(17)) + [53, 54]\n",
    "list_etc = list(range(17, 53)) + [55]\n",
    "ETCs = [re.split(r\"(?<=\\, \\d{4})[\\s;]\", c) if i in list_edu \\\n",
    "        else re.split(r\"\\n\\? \", c) \\\n",
    "        for i, c in enumerate(df['ETC'])]\n",
    "\n",
    "ETCs_1 = []\n",
    "\n",
    "for i in ETCs: #each i is a consultant\n",
    "    temp = list(filter((\", and Certifications\".__ne__), i))\n",
    "    temp = list(filter((\", and Selected Certifications\".__ne__), temp))\n",
    "    temp = list(filter((\"\\n\".__ne__), temp))\n",
    "    temp = list(filter((''.__ne__), temp))\n",
    "    for j in range(len(temp)):\n",
    "        temp[j] = temp[j].strip()\n",
    "    ETCs_1.append(temp)\n",
    "\n",
    "    \n",
    "# Special case debugging\n",
    "ETCs_1[3][3:4] = ETCs_1[3][3].split(\"\\n\")\n",
    "ETCs_1[10][1:2] = re.split(r\"(?= M.S.,)\", ETCs_1[10][1])\n",
    "ETCs_1[23][2] = re.sub(\"\\nSelected\", \"\", str(ETCs_1[23][2]))\n",
    "\n",
    "# ETCs_1[30] \n",
    "temp = [ETCs_1[30][0]] + ETCs_1[30][1].split(\"\\n* \")\n",
    "temp[-1] += ' Dentistry'\n",
    "ETCs_1[30] = [re.sub(\"[\\n\\t]\", \" \", i) for i in temp]\n",
    "\n",
    "ETCs_1[46][0] += \" \" + ETCs_1[46][1]\n",
    "del ETCs_1[46][1]\n",
    "\n",
    "# special = []\n",
    "# for i in [k for k in range(17,56) if k not in special]:\n",
    "#     clean_ETC(i)\n",
    "    "
   ]
  },
  {
   "cell_type": "code",
   "execution_count": 18,
   "metadata": {},
   "outputs": [],
   "source": [
    "# seperate ETC into education and training/certificate\n",
    "edu = []\n",
    "tr_cer = []\n",
    "pattern_edu = r\"University|Master of|School|College|DrPH|Bachelor|MPH\"\n",
    "\n",
    "certi_list = ['Temple University, Secondary Education Teaching Certification, Philadelphia Pennsylvania, 1977',\n",
    "              'Certificate in Biostatistics (Master’s level), Georgetown University, 2016',\n",
    "              'Washington Hospital Center, Georgetown University Hospital, Fellow in Infectious Diseases, Washington DC, 2003 – 2005']\n",
    "\n",
    "for i in ETCs_1: # for every consultant\n",
    "    edu_temp = []\n",
    "    tr_cer_temp = []\n",
    "    for j in i:\n",
    "#         print(j, re.match(pattern_edu, j))\n",
    "        j = re.sub(\"[•\\t]\", \"\", j)\n",
    "        j = j.strip()\n",
    "        if re.search(pattern_edu, j) and j not in certi_list :\n",
    "            edu_temp.append(j)\n",
    "        else:\n",
    "            tr_cer_temp.append(j)\n",
    "    edu.append(edu_temp)\n",
    "    tr_cer.append(tr_cer_temp)"
   ]
  },
  {
   "cell_type": "code",
   "execution_count": 19,
   "metadata": {},
   "outputs": [],
   "source": [
    "#Extract Certifications/Licenses\n",
    "\n",
    "certificates = {\"PMP: Project Management Professional\": [\"Project Management Professional\"],\n",
    "                \"CPC: Certified Professional Coach\": [\"Professional Certified Coach\", \" Certified Professional Coach\"],\n",
    "                \"Residency\": [\"Residency\"],\n",
    "                \"CPA: Certified Public Accountant\": [\"Certified Public Accountant\"],\n",
    "                \"ACCA: Association of Chartered Certified Accountants\": [\"ACCA\"] \n",
    "               }\n",
    "\n",
    "def CheckCertificate(etc):\n",
    "    p_certificate = []\n",
    "    for i in certificates:\n",
    "        for title in certificates[i]:\n",
    "            if title in etc:\n",
    "                p_certificate.append(i)\n",
    "                break\n",
    "    return p_certificate\n",
    "\n",
    "Certificates = [CheckCertificate(p) for p in df[\"ETC\"]]"
   ]
  },
  {
   "cell_type": "code",
   "execution_count": 20,
   "metadata": {},
   "outputs": [],
   "source": [
    "#Extract the highest degree\n",
    "degrees = {\"Ph.D.\": [\"Postdoctoral\", \"PhD\", \"Ph.D.\", \"Doctor of Philosophy\", \"Doctoral\", \"Doctor of Education\", \"Ed.D.\",\\\n",
    "                     \"D.D.S.\", \"DDS\", \"Doctor of Literature\"],\n",
    "           \"M.D.\": [\"MD\", \"M.D.\", \"Doctor of Medicine\", \"Doctorate in Medicine\"],\n",
    "           \"MBA\": [\"MBA\"],\n",
    "           \"MPH\": [\"MPH\", \"M.P.H.\", \"Master of Public Health\"],\n",
    "           \"Master\": [\"Master\", \"M.S.\", \"M.S.N.\", \"M.A.\", \"M.P.\", \"Graduate Studies\"],\n",
    "           \"Bachelor\": [\"Bachelor\", \"BA\", \"B.A.\",\"A.B.\", \"B.S.\", \"BS\", \"Undergraduate\", \"MBChB\"]}\n",
    "\n",
    "def CheckDegree (p_edu):\n",
    "    p_degree = []\n",
    "    for i in degrees:\n",
    "        for title in degrees[i]:\n",
    "            if title in p_edu:\n",
    "                p_degree.append(i)\n",
    "                break\n",
    "    return p_degree\n",
    "\n",
    "Degrees = [CheckDegree(p) for p in df[\"ETC\"]]"
   ]
  },
  {
   "cell_type": "code",
   "execution_count": 21,
   "metadata": {},
   "outputs": [],
   "source": [
    "\n",
    "# seperate ETC into education and training/certificate\n",
    "# edu = []\n",
    "# tr_cer = []\n",
    "# pattern_edu = r\"University|Master|School|College|DrPH|Bachelor\"\n",
    "\n",
    "# for i in ETCs_1: # for every consultant\n",
    "#     edu_temp = []\n",
    "#     tr_cer_temp = []\n",
    "#     for j in i:\n",
    "# #         print(j, re.match(pattern_edu, j))\n",
    "#         if re.search(pattern_edu, j):\n",
    "#             edu_temp.append(j)\n",
    "#         else:\n",
    "#             tr_cer_temp.append(j)\n",
    "#     edu.append(edu_temp)\n",
    "#     tr_cer.append(tr_cer_temp)\n"
   ]
  },
  {
   "cell_type": "code",
   "execution_count": 22,
   "metadata": {},
   "outputs": [],
   "source": [
    "#Language\n",
    "\n",
    "ppls_noname = list(df['ppls_data'])\n",
    "\n",
    "# now an explicit list of languages is used for speed, but packages pycountry can be used in the future\n",
    "lang_dic = ['Amharic', 'Arabic', 'Bemba', 'Chinese', 'Creole', 'Danish', 'French', 'German', 'Hindi',\\\n",
    "            'Kinyarwanda', 'Kirundi', 'Kiswahili', 'Luo', 'Malayalam', 'Nyanja', 'Portuguese', 'Russian',\\\n",
    "            'Setswana', 'Spanish', 'Swahili', 'Tagalog', 'Tigrigna', 'Tigrinya', 'Yoruba']\n",
    "\n",
    "lang = []\n",
    "\n",
    "for i in ppls_noname:\n",
    "    temp = [j for j in lang_dic if re.search(j, i)]\n",
    "    lang.append(temp)"
   ]
  },
  {
   "cell_type": "code",
   "execution_count": 23,
   "metadata": {},
   "outputs": [],
   "source": [
    "#Countries worked/visited/studied\n",
    "cnty = []\n",
    "for i in ppls_noname:\n",
    "    temp = []\n",
    "    for country in pycountry.countries:\n",
    "        if re.search(country.name, i):\n",
    "            temp.append(country.name)\n",
    "    cnty.append(temp)"
   ]
  },
  {
   "cell_type": "code",
   "execution_count": 24,
   "metadata": {},
   "outputs": [],
   "source": [
    "#Underserved population worked with\n",
    "\n",
    "undsrvd_dic = ['HIV', 'homeless', 'low income', 'poverty', 'poor', 'LGBT', 'transgender', 'trafficking',\\\n",
    "           'infants', 'children', 'youth', 'elder', 'disabilit', 'rural', 'low literacy']\n",
    "\n",
    "#8/12/19/40/41/49/56 disabilities\n",
    "\n",
    "undsrvd_pop = []\n",
    "for i in ppls_noname:\n",
    "    temp = [j for j in undsrvd_dic if re.search(j, i, re.IGNORECASE)]\n",
    "    temp = ['disabilities' if t == \"disabilit\" else t for t in temp]\n",
    "    temp = ['low income' if t == 'poor' else t for t in temp]\n",
    "    temp = ['low income' if t == 'poverty' else t for t in temp]\n",
    "    temp = list(set(temp))\n",
    "    undsrvd_pop.append(temp)\n",
    "# undsrvd_pop"
   ]
  },
  {
   "cell_type": "code",
   "execution_count": 25,
   "metadata": {},
   "outputs": [],
   "source": [
    "#Remove ETC, add Education and training/certificate columns\n",
    "# df[\"Education\"] = edu\n",
    "# df[\"Training/Certificate\"] = tr_cer\n",
    "# del df[\"ETC\"]\n",
    "\n",
    "#Add Edu, Training/Cer, Cert, Deg, languages, countries worked, underserved population\n",
    "df['ETC'] = ETCs_1\n",
    "df['Important Certificates'] = Certificates\n",
    "df[\"Degrees\"] = Degrees\n",
    "df[\"Languages\"] = lang\n",
    "df[\"Countries worked/studied\"] = cnty\n",
    "df[\"Underserved population worked with\"] = undsrvd_pop"
   ]
  },
  {
   "cell_type": "code",
   "execution_count": 26,
   "metadata": {},
   "outputs": [],
   "source": [
    "# Name Cleaning\n",
    "\n",
    "for i in [9, 20, 25, 53]:\n",
    "    df[\"Name\"][i] = re.sub(r\"\\(\\w+\\)\\s\", \"\", str(df[\"Name\"][i]))\n",
    "\n",
    "# df[\"Name\"]"
   ]
  },
  {
   "cell_type": "code",
   "execution_count": 27,
   "metadata": {},
   "outputs": [],
   "source": [
    "#Title Cleaning\n",
    "\n",
    "for i in [5, 11, 12, 35, 37, 38]:\n",
    "    df[\"Title\"][i] = re.sub(r\"\\s\\/\\s\", r\"/\", str(df[\"Title\"][i]))\n",
    "df[\"Title\"][49] = re.sub(r\"\\s\\([\\w\\s]+\\)\", \"\", str(df[\"Title\"][49]))\n",
    "\n",
    "for i in [53, 54]:\n",
    "    df[\"Title\"][i] = df[\"Title\"][i].strip()\n",
    "# df[\"Title\"]"
   ]
  },
  {
   "cell_type": "code",
   "execution_count": 28,
   "metadata": {},
   "outputs": [],
   "source": [
    "#Qualification and Experience Cleaning\n",
    "for i, w in enumerate(df[\"Qualification and Experience\"]):\n",
    "    df[\"Qualification and Experience\"][i] = w.strip()"
   ]
  },
  {
   "cell_type": "code",
   "execution_count": 29,
   "metadata": {},
   "outputs": [],
   "source": [
    "#Career Summary Cleaning\n",
    "\n",
    "for i, w in enumerate(df['Career Summary']):\n",
    "    temp = re.sub(r\"\\n\", \" \", w)\n",
    "    df['Career Summary'][i] = re.sub(r\"Career Summary\", \"\", temp).strip()"
   ]
  },
  {
   "cell_type": "code",
   "execution_count": 30,
   "metadata": {},
   "outputs": [],
   "source": [
    "# Storing\n",
    "\n",
    "file_name = data_folder / \"A_Phase2.pkl\"\n",
    "df.to_pickle(file_name)"
   ]
  },
  {
   "cell_type": "code",
   "execution_count": null,
   "metadata": {},
   "outputs": [],
   "source": []
  }
 ],
 "metadata": {
  "kernelspec": {
   "display_name": "Python 3",
   "language": "python",
   "name": "python3"
  },
  "language_info": {
   "codemirror_mode": {
    "name": "ipython",
    "version": 3
   },
   "file_extension": ".py",
   "mimetype": "text/x-python",
   "name": "python",
   "nbconvert_exporter": "python",
   "pygments_lexer": "ipython3",
   "version": "3.7.3"
  }
 },
 "nbformat": 4,
 "nbformat_minor": 2
}

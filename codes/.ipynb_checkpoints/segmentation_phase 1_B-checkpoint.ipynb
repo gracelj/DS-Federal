{
 "cells": [
  {
   "cell_type": "code",
   "execution_count": 36,
   "metadata": {},
   "outputs": [],
   "source": [
    "import re\n",
    "from pathlib import Path\n",
    "import pandas as pd\n",
    "\n",
    "data_folder = Path(\"C:/Users/Jing Li/Desktop/cv2db/project/Inputs\")\n",
    "data_to_open = data_folder / \"Resume_B.txt\""
   ]
  },
  {
   "cell_type": "code",
   "execution_count": 37,
   "metadata": {},
   "outputs": [],
   "source": [
    "with open(data_to_open) as f: \n",
    "\tdata = f.read()\n",
    "    \n",
    "# Seperate each person\n",
    "pattern = r\"Qualifications and Experience\"\n",
    "temp = list(filter(None, re.split(pattern, data)))\n",
    "del temp[0]"
   ]
  },
  {
   "cell_type": "code",
   "execution_count": 38,
   "metadata": {},
   "outputs": [],
   "source": [
    "# seperate QE\n",
    "\n",
    "pattern_QE = r\"\\n\\d+\\. \"\n",
    "# test = [re.split(pattern_QE, i) for i in temp]\n",
    "QEs = [re.split(pattern_QE, i)[0] for i in temp]\n",
    "data = [re.split(pattern_QE, i)[1] for i in temp]"
   ]
  },
  {
   "cell_type": "code",
   "execution_count": 39,
   "metadata": {
    "scrolled": true
   },
   "outputs": [],
   "source": [
    "#Checking\n",
    "# print(len(QE), QE)\n",
    "# print(len(data), data[0])"
   ]
  },
  {
   "cell_type": "code",
   "execution_count": 40,
   "metadata": {},
   "outputs": [],
   "source": [
    "# Split: name and title\n",
    "\n",
    "name_title = [i.split(\"\\n\", 1)[0] for i in data]\n",
    "ppls_noname = [i.split(\"\\n\", 1)[1] for i in data]\n",
    "\n",
    "name_title = [i.replace(\" Summary\", \"\") for i in name_title]\n",
    "\n",
    "pattern_name = r\"\\s[–-]\\s\"\n",
    "name = [re.split(pattern_name, i)[0] for i in name_title]\n",
    "title = [re.split(pattern_name, i)[1] for i in name_title]\n",
    "\n",
    "# some debugging:\n",
    "title[1] = name[1].split(\" / \")[1] + \" - \"+ title[1] \n",
    "name[1] = name[1].split(\" / \")[0]\n",
    "for i in [19, 31]:\n",
    "    name[i] = name[i].split(\",\")[0]\n",
    "name[20] = name[20].split(\" PhD\")[0]"
   ]
  },
  {
   "cell_type": "code",
   "execution_count": 41,
   "metadata": {},
   "outputs": [],
   "source": [
    "#Checking\n",
    "\n",
    "# print(len(name))\n",
    "# print(len(title))\n",
    "# print(name)\n",
    "# print(title)"
   ]
  },
  {
   "cell_type": "code",
   "execution_count": 43,
   "metadata": {},
   "outputs": [],
   "source": [
    "# Split: career summary, education\n",
    "\n",
    "smmry = [re.split(\"\\nEducation[^a-z]\", ppl, flags = re.I)[0] for ppl in ppls_noname]\n",
    "ppls_nosmy = [re.split(\"\\nEducation[^a-z]\", ppl, flags = re.I)[1] for ppl in ppls_noname]\n",
    "\n",
    "\n",
    "\n",
    "education = [re.split(\"\\n(\\w* ){1,2}experience\\s\", ppl, flags = re.I)[0] for ppl in ppls_nosmy]\n",
    "\n",
    "# test = [re.split(\"\\n(\\w* ){1,2}experience\\s\", ppl, maxsplit = 1, flags = re.I) for ppl in ppls_nosmy]\n",
    "ppls_noedu = [re.split(\"\\n(\\w* ){1,2}experience\\s\", ppl, maxsplit = 1, flags = re.I)[2] for ppl in ppls_nosmy]"
   ]
  },
  {
   "cell_type": "code",
   "execution_count": 44,
   "metadata": {},
   "outputs": [],
   "source": [
    "# Split: Work Experience\n",
    "# 19 people has additional materials after work experience\n",
    "\n",
    "pattern_work = r\"\\n(Selected )?Awards|\\n(Selected\\s)?Publications|\\nPresentations|\\nVideo\\sPrograms\"\n",
    "\n",
    "# Selected Awards and Professional Achievements\n",
    "# Slected Publications\n",
    "# Presentations\n",
    "# Publications and Awards\n",
    "# Video Programs\n",
    "# Awards\n",
    "# Awards/Honors\n",
    "# Publications\n",
    "# Publications, Techical Reports, and Presentations\n",
    "# Awards and Professional Achievements\n",
    "\n",
    "ppls = [re.split(pattern_work, i) for i in ppls_noedu]\n",
    "wrk = [i[0] for i in ppls]\n",
    "ppls_others = [i[-1] if len(i) != 1 else None for i in ppls]"
   ]
  },
  {
   "cell_type": "code",
   "execution_count": 46,
   "metadata": {},
   "outputs": [],
   "source": [
    "# #Split Work Experience\n",
    "\n",
    "# # further seperate work experience\n",
    "# pattern_exp = r\"\\n[^\\n]+\\d{4}\\s?[–-]\"\n",
    "# wrk_exp_list = [re.split(pattern_exp, i) for i in wrk_exp] # a list of lists of work description\n",
    "# wrk_exp_list1 = [re.findall(pattern_exp, i) for i in wrk_exp] # a list of lists of work_title/time\n",
    "\n",
    "# #Check\n",
    "# # print ([len(i) for i in wrk_exp_list])\n",
    "# # print ([len(i) for i in wrk_exp_list1])\n",
    "\n",
    "# for i in range(len(wrk_exp_list)):\n",
    "#     # wrk_exp_list[i] is a list containing work experiences of i-th consultant\n",
    "#     for j in range(len(wrk_exp_list1[i])):\n",
    "#         wrk_exp_list[i][j+1] = wrk_exp_list1[i][j]+ wrk_exp_list[i][j+1]\n",
    "        \n",
    "#Check\n",
    "# print(wrk_exp_list)\n",
    "# print ([len(i) for i in wrk_exp_list])"
   ]
  },
  {
   "cell_type": "code",
   "execution_count": 51,
   "metadata": {},
   "outputs": [],
   "source": [
    "newdata = [QEs[i]+data[i] for i in range(len(data))] "
   ]
  },
  {
   "cell_type": "code",
   "execution_count": 54,
   "metadata": {},
   "outputs": [],
   "source": [
    "# Build a simple dataframe to store the chunked information\n",
    "\n",
    "df3 = pd.DataFrame({\"Source\": \"B\",\n",
    "                    \"Name\":name,\n",
    "                    \"Title\": title,\n",
    "                    \"Qualification and Experience\": QEs,\n",
    "                    \"Career Summary\": smmry,\n",
    "                    \"ETC\": education,\n",
    "                    \"Work Experience\": wrk,\n",
    "                    \"Hornors/Awards/Publications\": ppls_others,\n",
    "                    'ppls_data': newdata}) # for extract keywords, but repetive information (no name, title, QE)"
   ]
  },
  {
   "cell_type": "code",
   "execution_count": 56,
   "metadata": {},
   "outputs": [],
   "source": [
    "#Storing the dataframe\n",
    "\n",
    "file_name = data_folder / \"intermediate/B_Phase1.pkl\"\n",
    "df3.to_pickle(file_name)"
   ]
  }
 ],
 "metadata": {
  "kernelspec": {
   "display_name": "Python 3",
   "language": "python",
   "name": "python3"
  },
  "language_info": {
   "codemirror_mode": {
    "name": "ipython",
    "version": 3
   },
   "file_extension": ".py",
   "mimetype": "text/x-python",
   "name": "python",
   "nbconvert_exporter": "python",
   "pygments_lexer": "ipython3",
   "version": "3.7.3"
  }
 },
 "nbformat": 4,
 "nbformat_minor": 2
}

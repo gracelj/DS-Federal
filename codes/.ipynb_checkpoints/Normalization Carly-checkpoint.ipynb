{
 "cells": [
  {
   "cell_type": "code",
   "execution_count": 93,
   "metadata": {},
   "outputs": [],
   "source": [
    "import re\n",
    "import pandas as pd\n",
    "from pathlib import Path\n",
    "import openpyxl\n",
    "from openpyxl import Workbook\n",
    "import pycountry\n",
    "import pycountry\n",
    "import json\n",
    "\n",
    "#read\n",
    "data_folder = Path(\"C:/Users/Jing Li/Desktop/cv2db/project/Inputs\")\n",
    "file = data_folder / \"Carly Roster_JL.xlsx\"\n",
    "\n",
    "# wb = openpyxl.load_workbook(file)\n",
    "# ws = wb[\"CONSULTANTS\"]\n",
    "\n",
    "# id = ws[\"A2\":\"A123\"]\n",
    "# countries = ws[\"G2\":\"G123\"]"
   ]
  },
  {
   "cell_type": "code",
   "execution_count": 94,
   "metadata": {},
   "outputs": [],
   "source": [
    "#open consultant sheet\n",
    "Carly_data = pd.ExcelFile(file)\n",
    "df = Carly_data.parse(\"CONSULTANTS\")\n",
    "\n",
    "#Countries worked/visited/studied\n",
    "cnty = []\n",
    "for i in df[\"COUNTRIES WORKED/VISITED/STUDIED\"]:\n",
    "    i = str(i)\n",
    "    temp = []\n",
    "    for country in pycountry.countries:\n",
    "        if re.search(country.name, i):\n",
    "            temp.append(country.name)\n",
    "    cnty.append(temp)"
   ]
  },
  {
   "cell_type": "code",
   "execution_count": 95,
   "metadata": {},
   "outputs": [],
   "source": [
    "#Countries missing\n",
    "cnty[16].append(\"Tanzania\")\n",
    "cnty[18].remove(\"Dominica\")\n",
    "cnty[18].remove(\"Niger\")\n",
    "cnty[21].append('United States')\n",
    "\n",
    "df[\"Countries worked/studied\"] = cnty"
   ]
  },
  {
   "cell_type": "code",
   "execution_count": 96,
   "metadata": {},
   "outputs": [],
   "source": [
    "#Languages\n",
    "lang_dic = ['Amharic', 'Arabic', 'Bemba', 'Bengali', 'Chinese', 'Creole', 'Danish', 'English',\n",
    "            'French', 'German', 'Hindi','Kinyarwanda', 'Kirundi', 'Kiswahili', 'Luo', 'Malayalam',\n",
    "            'Nyanja', 'Portuguese','Russian','Setswana', 'Spanish', 'Swahili', 'Swedish',\n",
    "            'Tagalog', 'Tigrigna', 'Tigrinya', 'Yoruba']\n",
    "\n",
    "lang = []\n",
    "\n",
    "for i in df[\"FOREIGN LANGUAGE(S)\"]:\n",
    "    i = str(i)\n",
    "    temp = [j for j in lang_dic if re.search(j, i)]\n",
    "    lang.append(temp)\n",
    "    \n",
    "df[\"Languages\"] = lang"
   ]
  },
  {
   "cell_type": "code",
   "execution_count": 97,
   "metadata": {},
   "outputs": [],
   "source": [
    "# Extract Expertises\n",
    "expertises = {'Coaching & Training': [\"coach\"],\n",
    "              'Federal government agency': [\"federal\"],\n",
    "              'Meeting Facilitation': [\"meeting\"],\n",
    "              'Report Writing': [\"report\", \"proposal\", \"grant\"],\n",
    "              'Budget and fiscal management': [\"budget\", \"fiscal manage\",\n",
    "                                               \"fiscal consul\", \"fiscal oversight\"],\n",
    "              'Epidemiology': ['Epidemiology'],\n",
    "              'Global health': [\"global health\"],\n",
    "              'Healthcare policy and regulations': [\"policy\", \"regulation\"],\n",
    "              'Infectious Diseases': [\"Infectious\"],\n",
    "              'International Relations': [\"international relation\"],\n",
    "              'Mental Health': ['mental health'],\n",
    "              'Psychiatry': [\"Psychiatry\"],\n",
    "              'Substance abuse': [\"substance abuse\"],\n",
    "              'Human Trafficking': [\"trafficking\"],\n",
    "              'Capacity building': [\"capacity building\", \"capacity develop\",\n",
    "                                    \"building their capacity\", \"build their capacity\",\n",
    "                                   \"build capacity\", \"services capacity\", \"system capacity\",\n",
    "                                   \"capacity expansion\", \"built capacity\"],\n",
    "              'Clinic Operations': [\"clinic\"],\n",
    "              'Financial analysis & management': [\"financial\", \"finance\", \"accounting\"],\n",
    "              'Fund development & Sustainability': [\"fund \", \"funds\", \"funding\"],\n",
    "              'Grants management': [\"grants\"],\n",
    "              'Human Capital Systems': [\"Human Capital\"],\n",
    "              'Human resources management': [\"Human resource\"],\n",
    "              'Humility and Organizational Leaders': ['Humility'],\n",
    "              'Organizational Development&Transformation': ['Organizational Development',\n",
    "                                                           'Transformation'],\n",
    "              'Quality improvement and management': [\"quality program\", \"quality improve\",\n",
    "                                                     \"improve quality\"],\n",
    "              'State Procurement System': [\"Procurement\"],\n",
    "              'Strategic planning': [\"Strategic\"],\n",
    "              'Data collection, analysis and reporting': [\"data collect\", \"data analy\", 'analysis'],\n",
    "              'Family Planning and Reproductive Health': [\"family planning\", \"FP/RH\", \"reproductive\"],\n",
    "              'Program evaluation & analysis': [\"evaluation\", \"evalute\", \"evaluator\"],\n",
    "              'Programmatic Assessment & Management': [\"Programmatic\"]\n",
    "             }\n",
    "\n",
    "def Check(p_data, dic):\n",
    "    p = []\n",
    "    for key in dic:\n",
    "        for kw in dic[key]:\n",
    "            if re.search(kw, p_data, re.IGNORECASE):\n",
    "                p.append(key)\n",
    "                break\n",
    "    return p\n",
    "\n",
    "Expertises = [Check(str(p), expertises) for p in df['EXPERTISE']]\n",
    "\n",
    "# Store\n",
    "df[\"Expertises\"] = Expertises"
   ]
  },
  {
   "cell_type": "code",
   "execution_count": 98,
   "metadata": {},
   "outputs": [],
   "source": [
    "# Special population\n",
    "\n",
    "population = {'Early Childhood': [\"early child\"],\n",
    "              'Elderly population': [\"elder\", \"senior health\"],\n",
    "              'Female population': [\"female\", \"girls\", \"women\"],\n",
    "              'HIV/AIDS population': [\"hiv\", \"aids\"],\n",
    "              'Homeless population': [\"homeless\"],\n",
    "              'Infants': [\"infants\", \"baby\"],\n",
    "              'LGBTQ': [\"lgbt\", \"transgender\"],\n",
    "              'Low-income population': [\"low-income\", \"poor\", \"poverty\"],\n",
    "              'Maternal and Children': [\"mother\", \"maternal\", \"child\"],\n",
    "              'People with disability': [\"disable\", \"disabilit\"],\n",
    "              'Rural Health': [\"rural\"],\n",
    "              'Youth': [\"youth\", \"adolescent\"],\n",
    "              'Tribal Home Visiting': [\"tribal\"],\n",
    "             }\n",
    "Population = [Check(str(p), population) for p in df['EXPERTISE']]\n",
    "\n",
    "# Store\n",
    "df[\"Target Population\"] = Population"
   ]
  },
  {
   "cell_type": "code",
   "execution_count": 108,
   "metadata": {},
   "outputs": [],
   "source": [
    "# Federal project\n",
    "\n",
    "# Special population\n",
    "\n",
    "project = {'Global Trade Analysis Project (GTAP)': ['GTAP'],\n",
    "           'Health Centers (BPHC)   ': ['BPHC'],\n",
    "           'HIV/AIDS Domestic (HAB Ryan White)': ['Ryan White'],\n",
    "           'HIV/AIDS International (HAB PEPFAR)': ['PEPFAR'],\n",
    "           'Maternal and Child Heath (MCHB, ACF)': ['MCHB'],\n",
    "           'Maternal, Infant, and Early Childhood Home Visiting Program (MIECHV)': ['MIECHV'],\n",
    "           'Population Assessment of Tobacco and Health Study (PATH)': ['PATH'],\n",
    "           'Rural Health (FORHP)': ['FORHP'],\n",
    "          }\n",
    "Project = [Check(str(p), project) for p in df['EXPERTISE']]\n",
    "\n",
    "# Store\n",
    "df[\"Federal Pro\"] = Project"
   ]
  },
  {
   "cell_type": "code",
   "execution_count": 109,
   "metadata": {},
   "outputs": [],
   "source": [
    "wb = Workbook()\n",
    "interested_cols = [\"Countries worked/studied\", \"Languages\", \"Expertises\",\n",
    "                   \"Federal Pro\", \"Target Population\"]\n",
    "\n",
    "def normalization(col_name):\n",
    "    output = []\n",
    "    for i in range(len(df)):\n",
    "        for j in df[col_name][i]:\n",
    "            output.append([df['id'][i], j])\n",
    "    return output"
   ]
  },
  {
   "cell_type": "code",
   "execution_count": 110,
   "metadata": {},
   "outputs": [],
   "source": [
    "for i in interested_cols:\n",
    "    ws = wb.create_sheet(title=i[:4])\n",
    "    result = normalization(i)\n",
    "    row = 1\n",
    "    for j in result: #each j is a [people, skill] list\n",
    "        ws[\"A\"+str(row)] = j[0]\n",
    "        ws[\"B\"+str(row)] = i\n",
    "        ws[\"C\"+str(row)] = j[1]\n",
    "        row += 1"
   ]
  },
  {
   "cell_type": "code",
   "execution_count": 111,
   "metadata": {},
   "outputs": [],
   "source": [
    "# store\n",
    "wb.save(data_folder / \"Carly atomized.xlsx\")"
   ]
  },
  {
   "cell_type": "code",
   "execution_count": null,
   "metadata": {},
   "outputs": [],
   "source": []
  }
 ],
 "metadata": {
  "kernelspec": {
   "display_name": "Python 3",
   "language": "python",
   "name": "python3"
  },
  "language_info": {
   "codemirror_mode": {
    "name": "ipython",
    "version": 3
   },
   "file_extension": ".py",
   "mimetype": "text/x-python",
   "name": "python",
   "nbconvert_exporter": "python",
   "pygments_lexer": "ipython3",
   "version": "3.7.3"
  }
 },
 "nbformat": 4,
 "nbformat_minor": 2
}

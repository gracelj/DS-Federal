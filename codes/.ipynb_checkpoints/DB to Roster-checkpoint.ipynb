{
 "cells": [
  {
   "cell_type": "code",
   "execution_count": 2,
   "metadata": {},
   "outputs": [],
   "source": [
    "from pathlib import Path\n",
    "import pandas as pd\n",
    "import openpyxl\n",
    "from openpyxl import Workbook\n",
    "import numpy as np\n",
    "\n",
    "#read\n",
    "data_folder = Path(\"C:/Users/Jing Li/Desktop/cv2db/project/Inputs\")\n",
    "file = data_folder / \"Consultants Database.xlsx\"\n",
    "data = pd.ExcelFile(file)"
   ]
  },
  {
   "cell_type": "code",
   "execution_count": 8,
   "metadata": {},
   "outputs": [],
   "source": [
    "#Extract Excel info to Dataframes\n",
    "\n",
    "df_basic = data.parse(\"Consultants\")\n",
    "df_basic = df_basic.set_index('c_id')"
   ]
  },
  {
   "cell_type": "code",
   "execution_count": 16,
   "metadata": {},
   "outputs": [],
   "source": [
    "#Extract Federal Project\n",
    "df_fp = data.parse(\"Federal Project\")\n",
    "#Denormalization\n",
    "drop_list = []\n",
    "for i in range(1, len(df_fp[\"c_id\"])):\n",
    "    if df_fp.loc[i, \"c_id\"] == df_fp.loc[i-1, \"c_id\"]:\n",
    "        df_fp.loc[i, \"project\"] = df_fp.loc[i-1, \"project\"] + \"; \" + df_fp.loc[i, \"project\"]\n",
    "        drop_list.append(i-1)\n",
    "df_fp = df_fp.drop(df_fp.index[drop_list])\n",
    "\n",
    "#Rename column\n",
    "df_fp = df_fp.rename(columns = {'project': 'Federal Project'})\n",
    "df_fp = df_fp.set_index('c_id')"
   ]
  },
  {
   "cell_type": "code",
   "execution_count": 17,
   "metadata": {},
   "outputs": [],
   "source": [
    "#Extract Target Population\n",
    "df_tp = data.parse(\"Target Population\")\n",
    "#denormalization\n",
    "drop_list = []\n",
    "for i in range(1, len(df_tp[\"c_id\"])):\n",
    "    if df_tp.loc[i, \"c_id\"] == df_tp.loc[i-1, \"c_id\"]:\n",
    "        df_tp.loc[i, \"target_pop\"] = df_tp.loc[i-1, \"target_pop\"] + \"; \" + df_tp.loc[i, \"target_pop\"]\n",
    "        drop_list.append(i-1)\n",
    "df_tp = df_tp.drop(df_tp.index[drop_list])\n",
    "\n",
    "#Rename column\n",
    "df_tp = df_tp.rename(columns = {'target_pop': 'Target Population'})\n",
    "df_tp = df_tp.set_index('c_id')"
   ]
  },
  {
   "cell_type": "code",
   "execution_count": 19,
   "metadata": {},
   "outputs": [],
   "source": [
    "#Expertise\n",
    "df_e = data.parse('Expertise')\n",
    "\n",
    "#denormalization\n",
    "drop_list = []\n",
    "for i in range(1, len(df_e)):\n",
    "    if df_e.loc[i, 'c_id'] == df_e.loc[i-1, 'c_id']:\n",
    "        drop_list.append(i-1)\n",
    "        df_e.loc[i, 'expertise'] = df_e.loc[i-1, 'expertise'] +\"; \" + df_e.loc[i, 'expertise']\n",
    "    \n",
    "df_e = df_e.drop(drop_list)[['c_id', 'expertise']]\n",
    "df_e = df_e.rename(columns = {'expertise': 'Expertise'})\n",
    "df_e = df_e.set_index('c_id')"
   ]
  },
  {
   "cell_type": "code",
   "execution_count": 34,
   "metadata": {},
   "outputs": [],
   "source": [
    "#Extract Education\n",
    "df_edu = data.parse(\"Education\")\n",
    "\n",
    "drop_idx = []\n",
    "for i in range(1, len(df_edu)):\n",
    "    if df_edu.loc[i, 'c_id'] == df_edu.loc[i-1, 'c_id']:\n",
    "        drop_idx.append(i-1)\n",
    "        df_edu.loc[i, 'education'] = df_edu.loc[i-1, 'education'] +\"; \" + df_edu.loc[i, 'education']\n",
    "df_edu = df_edu.drop(drop_idx)[['c_id', 'education']]\n",
    "#rename col\n",
    "df_edu = df_edu.rename(columns = {'education': \"Education\"})\n",
    "df_edu = df_edu.set_index('c_id')"
   ]
  },
  {
   "cell_type": "code",
   "execution_count": 41,
   "metadata": {},
   "outputs": [],
   "source": [
    "# Certificate\n",
    "df_c = data.parse(\"Certificate\")\n",
    "\n",
    "#denormalization\n",
    "drop_idx = []\n",
    "for i in range(1, len(df_c)):\n",
    "    if df_c.loc[i, 'c_id'] == df_c.loc[i-1, 'c_id']:\n",
    "        drop_idx.append(i-1)\n",
    "        df_c.loc[i, 'certificate'] = df_c.loc[i-1, 'certificate'] +\"; \" + df_c.loc[i, 'certificate']\n",
    "df_c = df_c.drop(drop_idx)[['c_id', 'certificate']]\n",
    "\n",
    "df_c = df_c.set_index('c_id')"
   ]
  },
  {
   "cell_type": "code",
   "execution_count": 61,
   "metadata": {},
   "outputs": [],
   "source": [
    "#Languages\n",
    "df_cul = data.parse('Cultural competency')\n",
    "df_lang = df_cul.loc[df_cul['format'] == 'Language'][['c_id', 'lcs']]\n",
    "df_lang = df_lang.rename(columns = {'lcs': 'Language'})\n",
    "\n",
    "#denormalization\n",
    "drop_list = []\n",
    "df_lang=df_lang.reset_index()\n",
    "for i in range(1, len(df_lang)):\n",
    "    if df_lang.loc[i, 'c_id'] == df_lang.loc[i-1, 'c_id']:\n",
    "        drop_list.append(i-1)\n",
    "        df_lang.loc[i, 'Language'] = df_lang.loc[i-1, 'Language'] +\"; \" + df_lang.loc[i, 'Language']\n",
    "df_lang = df_lang.drop(drop_list).drop('index', axis = 1)\n",
    "df_lang = df_lang.set_index('c_id')"
   ]
  },
  {
   "cell_type": "code",
   "execution_count": 73,
   "metadata": {},
   "outputs": [],
   "source": [
    "#Countries\n",
    "df_cny = df_cul.loc[(df_cul['format'] == 'Country')][['c_id', 'lcs']]\n",
    "df_cny = df_cny.rename(columns = {'lcs': 'Country Worked'})\n",
    "\n",
    "#denormalization\n",
    "drop_list = []\n",
    "df_cny = df_cny.reset_index()\n",
    "df_cny = df_cny.reset_index()\n",
    "for i in range(1, len(df_cny)):\n",
    "    if df_cny.loc[i, 'c_id'] == df_cny.loc[i-1, 'c_id']:\n",
    "        drop_list.append(i-1)\n",
    "        df_cny.loc[i, 'Country Worked'] = df_cny.loc[i-1, 'Country Worked'] +\"; \"\\\n",
    "        + df_cny.loc[i, 'Country Worked']\n",
    "df_cny = df_cny.drop(drop_list).drop('index', axis = 1).drop('level_0', axis = 1)\n",
    "df_cny = df_cny.set_index('c_id')"
   ]
  },
  {
   "cell_type": "code",
   "execution_count": 74,
   "metadata": {},
   "outputs": [],
   "source": [
    "#States\n",
    "df_sta = df_cul.loc[df_cul['format'] == 'State'][['c_id', 'lcs']]\n",
    "df_sta = df_sta.rename(columns = {'lcs': 'State Worked'})\n",
    "\n",
    "#denormalization\n",
    "drop_list = []\n",
    "df_sta = df_sta.reset_index()\n",
    "for i in range(1, len(df_sta)):\n",
    "    if df_sta.loc[i, 'c_id'] == df_sta.loc[i-1, 'c_id']:\n",
    "        drop_list.append(i-1)\n",
    "        df_sta.loc[i, 'State Worked'] = df_sta.loc[i-1, 'State Worked'] +\"; \"\\\n",
    "        + df_sta.loc[i, 'State Worked']\n",
    "\n",
    "df_sta = df_sta.drop(drop_list).drop('index', axis = 1)\n",
    "df_sta = df_sta.set_index('c_id')"
   ]
  },
  {
   "cell_type": "code",
   "execution_count": 75,
   "metadata": {},
   "outputs": [],
   "source": [
    "#Site visited\n",
    "df_sv = df_cul.loc[df_cul['format'] == 'Site visit'][['c_id', 'lcs']]\n",
    "df_sv = df_sv.rename(columns = {'lcs': 'Site Visited'})\n",
    "\n",
    "#denormalization\n",
    "drop_list = []\n",
    "df_sv = df_sv.reset_index()\n",
    "for i in range(1, len(df_sv)):\n",
    "    if df_sv.loc[i, 'c_id'] == df_sv.loc[i-1, 'c_id']:\n",
    "        drop_list.append(i-1)\n",
    "        df_sv.loc[i, 'Site Visited'] = df_sv.loc[i-1, 'Site Visited'] +\"; \" + df_sv.loc[i, 'Site Visited']\n",
    "df_sv = df_sv.drop(drop_list).drop('index', axis = 1)\n",
    "df_sv = df_sv.set_index('c_id')"
   ]
  },
  {
   "cell_type": "code",
   "execution_count": 76,
   "metadata": {},
   "outputs": [],
   "source": [
    "#Merge Information\n",
    "df = pd.concat(objs = [df_basic, df_fp, df_tp, df_e, df_edu, df_c,df_lang, df_cny, df_sta, df_sv],\\\n",
    "               axis = 1, join = 'outer', sort = True)"
   ]
  },
  {
   "cell_type": "code",
   "execution_count": 79,
   "metadata": {},
   "outputs": [],
   "source": [
    "df.to_excel(data_folder / 'master roster.xlsx')"
   ]
  }
 ],
 "metadata": {
  "kernelspec": {
   "display_name": "Python 3",
   "language": "python",
   "name": "python3"
  },
  "language_info": {
   "codemirror_mode": {
    "name": "ipython",
    "version": 3
   },
   "file_extension": ".py",
   "mimetype": "text/x-python",
   "name": "python",
   "nbconvert_exporter": "python",
   "pygments_lexer": "ipython3",
   "version": "3.7.3"
  }
 },
 "nbformat": 4,
 "nbformat_minor": 2
}

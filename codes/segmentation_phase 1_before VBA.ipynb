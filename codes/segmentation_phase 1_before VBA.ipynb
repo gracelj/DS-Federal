{
 "cells": [
  {
   "cell_type": "code",
   "execution_count": 37,
   "metadata": {},
   "outputs": [],
   "source": [
    "import re\n",
    "from pathlib import Path\n",
    "import pandas as pd\n",
    "\n",
    "data_folder = Path(\"C:/Users/Jing Li/Desktop/cv2db/project/Inputs\")\n",
    "# data1_to_open = data_folder / \"All Resumes_Angela Bowden.txt\"\n",
    "# data2_to_open = data_folder / \"PEPFAR All Resumes_10.2+11.3.txt\"\n",
    "data3_to_open = data_folder / \"PEPFAR All Resumes_10.2+11.3 (sparse).txt\"\n",
    "\n",
    "\n",
    "# with open(data1_to_open) as f: \n",
    "# \tdata1 = f.read() #data1 is a string\n",
    "\n",
    "# with open(data2_to_open) as f: \n",
    "# \tdata2 = f.read()\n",
    "    \n",
    "with open(data3_to_open) as f: \n",
    "\tdata = f.read()"
   ]
  },
  {
   "cell_type": "code",
   "execution_count": 46,
   "metadata": {},
   "outputs": [
    {
     "name": "stdout",
     "output_type": "stream",
     "text": [
      "21\n"
     ]
    }
   ],
   "source": [
    "# Split: name and title\n",
    "\n",
    "pattern_ppl = r\"[^\\n]+\\nCareer Summary\"\n",
    "pattern_name = r\"\\s–\\s\"\n",
    "\n",
    "ppls_noname = re.split(pattern_ppl, data)\n",
    "ppls_noname = list(filter(None, ppls_noname))\n",
    "\n",
    "name_title = re.findall(pattern_ppl, data)\n",
    "\n",
    "name = [re.split(pattern_name, i)[0] for i in name_title]\n",
    "title = [re.split(pattern_name, i)[1] for i in name_title]\n",
    "title1 = [re.sub(r'\\nCareer Summary', '', i) for i in title] #remove '\\nCareer Summary' from title"
   ]
  },
  {
   "cell_type": "code",
   "execution_count": 158,
   "metadata": {},
   "outputs": [],
   "source": [
    "# Split: career summary, ETC (Education, Training, and Certifications), Work Experience\n",
    "\n",
    "#Career Summary\n",
    "pattern_crr_smmry = r\"\\nEducation, Training, and Certifications\"\n",
    "crr_smmry = [re.split(pattern_crr_smmry, i)[0] for i in ppls_noname]\n",
    "crr_smmry = [i.replace(\"\\n\", \" \") for i in crr_smmry] #career summary\n",
    "ppls1 = [re.split(pattern_crr_smmry, i)[1] for i in ppls_noname]\n",
    "\n",
    "#ETC\n",
    "pattern_ETC = r\"\\nWork Experience\"\n",
    "ETC = [re.split(pattern_ETC, i)[0] for i in ppls1] #Education, Training, and Certifications\n",
    "ppls2 = [re.split(pattern_ETC, i)[1] for i in ppls1]\n",
    "\n",
    "#Work Experience\n",
    "pattern_Experience = r\"(\\n(Publications and Awards|Awards\\/Honors|Publications|Research and Publications))\"\n",
    "ppls2_list = [re.split(pattern_Experience, i) for i in ppls2]\n",
    "for i in ppls2_list:\n",
    "    i.extend(['N/A','N/A','N/A'])\n",
    "wrk_exp = [i[0] for i in ppls2_list] #Work Experience\n",
    "pub = [i[3] for i in ppls2_list] #Hornors/Awards/Publications\n",
    "\n",
    "#Extract Qualifications and Experience from Work Experience\n",
    "QElength = [2,2,3,2,3, 3,1,2,3,3, 4,2,3,2,3, 2,3,2,3,3, 3]\n",
    "pattern_QE = [r'Qualifications and Experience([^•]*•){' + str(i) + '}\\n[•–·(Senior)(Country)]|[a-zA-Z ]{70}' for i in QElength]\n",
    "wrk_exp = [re.findall]\n",
    "(Qualifications and Experience)([^•]*•).+\n",
    "\n",
    "\n",
    "# further seperate work experience\n",
    "pattern_exp = r\"\\n[^\\n]+\\d{4}\\s?[–-]\"\n",
    "wrk_exp_list = [re.split(pattern_exp, i) for i in wrk_exp]\n",
    "wrk_exp_list1 = [re.findall(pattern_exp, i) for i in wrk_exp]\n",
    "for i in range(len(wrk_exp_list)):\n",
    "    wrk_exp_list[i].remove(\"\")\n",
    "    wrk_exp_list[i] = [wrk_exp_list1[i][j] + wrk_exp_list[i][j] for j in range(len(wrk_exp_list[i]))]\n"
   ]
  },
  {
   "cell_type": "code",
   "execution_count": 160,
   "metadata": {},
   "outputs": [],
   "source": [
    "# Build a simple dataframe to store the chunked information\n",
    "\n",
    "df1 = pd.DataFrame({\"Name\":name,\n",
    "                   \"Title\": title1,\n",
    "                   \"Career Summary\": crr_smmry,\n",
    "                   \"ETC\": ETC,\n",
    "                   \"Work Experience\": wrk_exp_list,\n",
    "                   \"Hornors/Awards/Publications\": pub})"
   ]
  },
  {
   "cell_type": "code",
   "execution_count": 161,
   "metadata": {},
   "outputs": [
    {
     "data": {
      "text/plain": [
       "['\\nProgram Manager May 2019 – Present\\nDSFederal, Inc., Rockville, MD\\nProject: Food and Drug Administration / Integrated Services\\n• responsibilities include managing training projects under FDA training integration blanket purchase agreement. Duties include Providing a technical expertise proposals, managing all aspects of training lifecycle development, knowledge management, and human capital development.',\n",
       " '\\nSr. ISD and Training Manager October 2017 – May 2019\\nHendall Inc., Rockville, MD Project: Centers for Medicaid and Medicare / Training Support\\n• Work closely with SMEs and stakeholders to ensure the accuracy and quality of all course content.\\n• Manage a dynamic training team that includes graphic designers, course developers, and technical writers to produce deliverables.\\n• Employ the ADDIE Model and performance-based lean ISD processes to produce high-quality\\nweb-based and streaming training solutions.\\n• Oversee the progress of operations, including:\\no Conducting needs analysis with the goal of designing and developing learning solutions using ADDIE methodology and Articulate Storyline authoring.\\no Managing training development activities for CMS Quality, Safety & Oversight Group, and the CDC Antibiotic Stewardship: Continuing Education training program.\\no Scripting, wireframing, directing and editing video scenarios for incorporation into\\ncourseware.\\no Developing an evaluation method to assess program strengths and identify areas for improvement.\\nQualifications and Experience\\n• Over 20 years in Training\\nManagement and Instructional Design\\n• Master of Science in Education from the University of Florida\\no Ensuring goals are met in areas including customer satisfaction, quality assurance, and team performance.',\n",
       " '\\nSenior Instructional Designer October 2016 –October 2017\\nCamber Corporation, Washington DC\\nProject: Veterans Affairs Administration / Leadership Development Training Support • Conducted instructional design in support of Leadership Development and Process Improvement training requirements.\\n• Interfaced with government leaders at the GS-14 level or higher and worked with them to\\nanalyze the existing leadership programs/curriculums, identify gaps, and develop solutions to\\nmeet their training needs.\\n• Created detailed plans for instructor-led courses resulting in the development of a divisionwide leadership training curriculum.',\n",
       " '\\nTraining Project Manager and Senior Instructional Designer December 2011– October 2016\\nSigmatech, Crystal City, Virginia\\nProject: Office of Personnel Management / Training Support\\n• Responsible for designing, delivering, and managing the full lifecycle of multiple training\\nand knowledge management projects using ADDIE methodology for various Federal clients,\\nincluding FEMA, FDA, and FAA, funded through the OPM contract vehicle.\\n• Regular tasking included lifecycle management of training projects from project initiation to closeout, to include managing project schedule, budget, resources, and deliverables.',\n",
       " '\\nTraining Manager/Deputy Task Manager May 2001– December 2011\\nSAIC, Washington DC\\nProject: Health and Human Services / Training Support\\n• As Training Manager, responsible for managing the training and Business Process Reengineering effort for the world-wide deployment of the Patient Safety Reporting (PSR)\\nsystem for Defense Health Services Systems (DHSS) customer. Duties include managing\\npre-implementation activities, deliverable documents and reporting financial status and\\ntraining activities to the customer.\\n• As Deputy Task Manager, responsible for managing customer relations and maintaining\\nmanagement-level documents for the Implementation and Training effort (I&T) of the Enterprise Wide Scheduling and Registration system (EWSR); and for managing the subcontractors’ development of Web-Based Training (WBT) modules for EWSR.']"
      ]
     },
     "execution_count": 161,
     "metadata": {},
     "output_type": "execute_result"
    }
   ],
   "source": [
    "df1[\"Work Experience\"][0]"
   ]
  },
  {
   "cell_type": "code",
   "execution_count": null,
   "metadata": {},
   "outputs": [],
   "source": []
  },
  {
   "cell_type": "code",
   "execution_count": null,
   "metadata": {},
   "outputs": [],
   "source": []
  },
  {
   "cell_type": "code",
   "execution_count": null,
   "metadata": {},
   "outputs": [],
   "source": []
  }
 ],
 "metadata": {
  "kernelspec": {
   "display_name": "Python 3",
   "language": "python",
   "name": "python3"
  },
  "language_info": {
   "codemirror_mode": {
    "name": "ipython",
    "version": 3
   },
   "file_extension": ".py",
   "mimetype": "text/x-python",
   "name": "python",
   "nbconvert_exporter": "python",
   "pygments_lexer": "ipython3",
   "version": "3.7.3"
  }
 },
 "nbformat": 4,
 "nbformat_minor": 2
}

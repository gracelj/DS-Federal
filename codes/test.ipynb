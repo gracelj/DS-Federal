{
 "cells": [
  {
   "cell_type": "code",
   "execution_count": 3,
   "metadata": {},
   "outputs": [],
   "source": [
    "import pandas as pd\n",
    "\n",
    "array = [['a1', 'a2', 'a3'],\n",
    "         ['a4', 'a5', 'a6'],\n",
    "         ['a7', 'a8', 'a9'],\n",
    "         ['a10', 'a11', 'a12', 'a13', 'a14']]\n",
    "\n",
    "df = pd.DataFrame(array).T\n",
    "df.to_excel(excel_writer = \"C:/Users/Jing Li/Desktop/test.xlsx\")"
   ]
  },
  {
   "cell_type": "code",
   "execution_count": 12,
   "metadata": {},
   "outputs": [],
   "source": []
  },
  {
   "cell_type": "code",
   "execution_count": null,
   "metadata": {},
   "outputs": [],
   "source": []
  }
 ],
 "metadata": {
  "kernelspec": {
   "display_name": "Python 3",
   "language": "python",
   "name": "python3"
  },
  "language_info": {
   "codemirror_mode": {
    "name": "ipython",
    "version": 3
   },
   "file_extension": ".py",
   "mimetype": "text/x-python",
   "name": "python",
   "nbconvert_exporter": "python",
   "pygments_lexer": "ipython3",
   "version": "3.7.3"
  }
 },
 "nbformat": 4,
 "nbformat_minor": 2
}

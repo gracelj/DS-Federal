{
 "cells": [
  {
   "cell_type": "code",
   "execution_count": 13,
   "metadata": {},
   "outputs": [],
   "source": [
    "# pip install pycountry\n",
    "import pycountry\n",
    "# pycountry.countries\n",
    "# pycountry.languages\n",
    "import re\n",
    "from pathlib import Path\n",
    "import pandas as pd\n",
    "\n",
    "data_folder = Path(\"C:/Users/Jing Li/Desktop/cv2db/project/Inputs/intermediate\")\n",
    "file_name = data_folder / \"All_Phase1.pkl\"\n",
    "df = pd.read_pickle(file_name)"
   ]
  },
  {
   "cell_type": "code",
   "execution_count": 14,
   "metadata": {},
   "outputs": [],
   "source": [
    "#ETC\n",
    "\n",
    "# further seperate\n",
    "ETCs = [re.split(r\"•\", i) for i in df['ETC']]\n",
    "ETCs[-3] = re.split(r\" \\n \\n\", ETCs[-3][0])\n",
    "ETCs[-2] = re.split(r\" \\n \\n\", ETCs[-2][0])\n",
    "\n",
    "ETCs_1 = []\n",
    "\n",
    "for i in ETCs: #each i is a consultant\n",
    "    temp = list(filter((\" \\n\".__ne__), i))\n",
    "    temp = list(filter((\" \".__ne__), temp))\n",
    "    temp = list(filter((''.__ne__), temp))\n",
    "    temp = list(filter((\" \\n \\n\".__ne__), temp))\n",
    "    ETCs_1.append(temp)"
   ]
  },
  {
   "cell_type": "code",
   "execution_count": 15,
   "metadata": {},
   "outputs": [],
   "source": [
    "# seperate ETC into education and training/certificate\n",
    "edu = []\n",
    "tr_cer = []\n",
    "pattern_edu = r\"University|Master of|School|College|DrPH|Bachelor|MPH\"\n",
    "\n",
    "certi_list = ['Temple University, Secondary Education Teaching Certification, Philadelphia Pennsylvania, 1977',\n",
    "              'Certificate in Biostatistics (Master’s level), Georgetown University, 2016',\n",
    "              'Washington Hospital Center, Georgetown University Hospital, Fellow in Infectious Diseases, Washington DC, 2003 – 2005']\n",
    "\n",
    "for i in ETCs_1: # for every consultant\n",
    "    edu_temp = []\n",
    "    tr_cer_temp = []\n",
    "    for j in i:\n",
    "#         print(j, re.match(pattern_edu, j))\n",
    "        j = re.sub(\"[•\\t]\", \"\", j)\n",
    "        j = j.strip()\n",
    "        if re.search(pattern_edu, j) and j not in certi_list :\n",
    "            edu_temp.append(j)\n",
    "        else:\n",
    "            tr_cer_temp.append(j)\n",
    "    edu.append(edu_temp)\n",
    "    tr_cer.append(tr_cer_temp)"
   ]
  },
  {
   "cell_type": "code",
   "execution_count": 16,
   "metadata": {},
   "outputs": [],
   "source": [
    "#Extract Certifications/Licenses\n",
    "\n",
    "certificates = {\"PMP: Project Management Professional\": [\"Project Management Professional\"],\n",
    "                \"CPC: Certified Professional Coach\": [\"Professional Certified Coach\", \" Certified Professional Coach\"],\n",
    "                \"Residency\": [\"Residency\"],\n",
    "                \"CPA: Certified Public Accountant\": [\"Certified Public Accountant\"],\n",
    "                \"ACCA: Association of Chartered Certified Accountants\": [\"ACCA\"] \n",
    "               }\n",
    "\n",
    "def CheckCertificate (etc):\n",
    "    p_certificate = []\n",
    "    for i in certificates:\n",
    "        for title in certificates[i]:\n",
    "            if title in etc:\n",
    "                p_certificate.append(i)\n",
    "                break\n",
    "    return p_certificate\n",
    "\n",
    "Certificates = [CheckCertificate(p) for p in df[\"ETC\"]]"
   ]
  },
  {
   "cell_type": "code",
   "execution_count": 17,
   "metadata": {},
   "outputs": [],
   "source": [
    "#Extract the highest degree\n",
    "degrees = {\"Ph.D.\": [\"Postdoctoral\", \"PhD\", \"Ph.D.\", \"Doctor of Philosophy\", \"Doctoral\", \"Doctor of Education\", \"Ed.D.\",\\\n",
    "                     \"D.D.S.\", \"DDS\", \"Doctor of Literature\", \"Doctor in Public Health\", \\\n",
    "                    \"Doctor of Public Health\", \"Doctor of Sociology\"],\n",
    "           \"M.D.\": [\"M.D.\", \"Doctor of Medicine\", \"Doctorate in Medicine\"],\n",
    "           \"MBA\": [\"MBA\"],\n",
    "           \"Master\": [\"Master\", \"MPH\", \"M.P.H.\", \"M.S.\", \"M.S.N.\", \"M.A.\", \"M.P.\", \"Graduate Studies\"],\n",
    "           \"Bachelor\": [\"Bachelor\", \"BA\", \"B.A.\",\"A.B.\", \"B.S.\", \"BS\", \"Undergraduate\"]}\n",
    "\n",
    "def CheckDegree (p_edu):\n",
    "    p_degree = []\n",
    "    for i in degrees:\n",
    "        for title in degrees[i]:\n",
    "            if title in p_edu:\n",
    "                p_degree.append(i)\n",
    "                break\n",
    "    return p_degree\n",
    "\n",
    "Degrees = [CheckDegree(p) for p in df[\"ETC\"]]"
   ]
  },
  {
   "cell_type": "code",
   "execution_count": 18,
   "metadata": {},
   "outputs": [],
   "source": [
    "#Language\n",
    "\n",
    "ppls_noname = list(df['ppls_noname'])\n",
    "df['ETC']\n",
    "# now an explicit list of languages is used for speed, but packages pycountry can be used in the future\n",
    "lang_dic = ['Amharic', 'Arabic', 'Bemba', 'Chinese', 'Creole', 'Danish', 'French', 'German', 'Hindi',\\\n",
    "            'Kinyarwanda', 'Kirundi', 'Kiswahili', 'Luo', 'Malayalam', 'Nyanja', 'Portuguese', 'Russian',\\\n",
    "            'Setswana', 'Spanish', 'Swahili', 'Tagalog', 'Tigrigna', 'Tigrinya', 'Yoruba'] #2 T's are the same\n",
    "\n",
    "lang = []\n",
    "for i in ppls_noname:\n",
    "    temp = [j for j in lang_dic if re.search(j, i)]\n",
    "    lang.append(temp)\n",
    "\n",
    "# Mis-information correction\n",
    "lang[16] = []"
   ]
  },
  {
   "cell_type": "code",
   "execution_count": 19,
   "metadata": {},
   "outputs": [],
   "source": [
    "#Countries worked/visited/studied\n",
    "cnty = []\n",
    "for i in ppls_noname:\n",
    "    temp = []\n",
    "    for country in pycountry.countries:\n",
    "        if re.search(country.name, i):\n",
    "            temp.append(country.name)\n",
    "    cnty.append(temp)"
   ]
  },
  {
   "cell_type": "code",
   "execution_count": 20,
   "metadata": {},
   "outputs": [],
   "source": [
    "#Underserved population worked with\n",
    "\n",
    "undsrvd_dic = ['HIV', 'homeless', 'low income', 'poverty', 'LGBT', 'transgender', 'trafficking',\\\n",
    "           'infants', 'children', 'youth', 'elderly', 'disab', 'rural']\n",
    "\n",
    "\n",
    "undsrvd_pop = []\n",
    "for i in ppls_noname:\n",
    "    temp = [j for j in undsrvd_dic if re.search(j, i, re.IGNORECASE)]\n",
    "    undsrvd_pop.append(temp)\n",
    "# undsrvd_pop"
   ]
  },
  {
   "cell_type": "code",
   "execution_count": 21,
   "metadata": {},
   "outputs": [],
   "source": [
    "#Remove ETC, add Education and training/certificate columns\n",
    "# df[\"Education\"] = edu\n",
    "# df[\"Training/Certificate\"] = tr_cer\n",
    "# del df[\"ETC\"]\n",
    "\n",
    "#Add Edu, Training/Cer, Cert, Deg, languages, countries worked, underserved population\n",
    "df['ETC'] = ETCs_1\n",
    "df['Important Certificates'] = Certificates\n",
    "df[\"Degrees\"] = Degrees\n",
    "df[\"Languages\"] = lang\n",
    "df[\"Countries worked/studied\"] = cnty\n",
    "df[\"Underserved population worked with\"] = undsrvd_pop"
   ]
  },
  {
   "cell_type": "code",
   "execution_count": 22,
   "metadata": {},
   "outputs": [],
   "source": [
    "# Name Cleaning:\n",
    "\n",
    "for i in [4, 17, 18]:\n",
    "    df[\"Name\"][i] = re.match(r'[^,]+', str(df[\"Name\"][i])).group(0)\n",
    "    df[\"Name\"][i] = df[\"Name\"][i].strip()\n",
    "df[\"Name\"][9] = re.sub(r\"\\(\\w+\\)\\s\", \"\", df[\"Name\"][9])\n",
    "# df[\"Name\"]"
   ]
  },
  {
   "cell_type": "code",
   "execution_count": 23,
   "metadata": {},
   "outputs": [],
   "source": [
    "# Qualification and Experience Cleaning\n",
    "\n",
    "for i, w in enumerate(df[\"Qualification and Experience\"]):\n",
    "    temp = re.sub(\"[\\n\\t]\", \"\", str(w))\n",
    "    df[\"Qualification and Experience\"][i] = re.sub(r\"\\s*•\", \"\\n\", temp).strip()"
   ]
  },
  {
   "cell_type": "code",
   "execution_count": 24,
   "metadata": {},
   "outputs": [],
   "source": [
    "# Storing\n",
    "df.rename(columns = {\"ppls_noname\": \"ppls_data\"}, inplace = True)\n",
    "\n",
    "file_name = data_folder / \"All_Phase2.pkl\"\n",
    "df.to_pickle(file_name)"
   ]
  }
 ],
 "metadata": {
  "kernelspec": {
   "display_name": "Python 3",
   "language": "python",
   "name": "python3"
  },
  "language_info": {
   "codemirror_mode": {
    "name": "ipython",
    "version": 3
   },
   "file_extension": ".py",
   "mimetype": "text/x-python",
   "name": "python",
   "nbconvert_exporter": "python",
   "pygments_lexer": "ipython3",
   "version": "3.7.3"
  }
 },
 "nbformat": 4,
 "nbformat_minor": 2
}
